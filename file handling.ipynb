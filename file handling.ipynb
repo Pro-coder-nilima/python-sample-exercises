{
 "cells": [
  {
   "cell_type": "code",
   "execution_count": 9,
   "id": "270007fd",
   "metadata": {},
   "outputs": [],
   "source": [
    "f = open(\"modified.txt\",\"x\")\n"
   ]
  },
  {
   "cell_type": "code",
   "execution_count": 13,
   "id": "a7bb91e6",
   "metadata": {},
   "outputs": [],
   "source": [
    "f = open(\"modified.txt\",\"w\")\n",
    "f.write(\"python programm\\nself introduction\\ndatascience\")\n",
    "f.close()\n",
    "\n",
    "\n",
    "\n",
    "\n"
   ]
  },
  {
   "cell_type": "code",
   "execution_count": 1,
   "id": "ba746866",
   "metadata": {},
   "outputs": [
    {
     "name": "stdout",
     "output_type": "stream",
     "text": [
      "python programm\n",
      "self introduction\n",
      "datascience\n",
      " python with prograqmming language\n"
     ]
    }
   ],
   "source": [
    "f = open(\"modified.txt\",\"r\")\n",
    "print(f.read())"
   ]
  },
  {
   "cell_type": "code",
   "execution_count": 16,
   "id": "39b84ac3",
   "metadata": {
    "scrolled": true
   },
   "outputs": [
    {
     "name": "stdout",
     "output_type": "stream",
     "text": [
      "python programm\n",
      "self introduction\n",
      "datascience\n",
      " python with prograqmming language\n"
     ]
    }
   ],
   "source": [
    "f = open(\"modified.txt\",\"a\")\n",
    "f.write(\"\\n python with prograqmming language\")\n",
    "f.close()\n",
    "\n",
    "f = open(\"modified.txt\",\"r\")\n",
    "print(f.read())"
   ]
  },
  {
   "cell_type": "markdown",
   "id": "28f42a6e",
   "metadata": {},
   "source": [
    "program to read file word by word"
   ]
  },
  {
   "cell_type": "code",
   "execution_count": 17,
   "id": "793f012c",
   "metadata": {
    "scrolled": true
   },
   "outputs": [
    {
     "name": "stdout",
     "output_type": "stream",
     "text": [
      "python programm\n",
      "self introduction\n",
      "datascience\n",
      " python with prograqmming language\n"
     ]
    }
   ],
   "source": [
    "f = open(\"modified.txt\",\"r\")\n",
    "all =f.read()\n",
    "print(all)\n",
    "f.close()"
   ]
  },
  {
   "cell_type": "markdown",
   "id": "23e18fce",
   "metadata": {},
   "source": [
    "read chracter by character from file"
   ]
  },
  {
   "cell_type": "code",
   "execution_count": 21,
   "id": "3a4d0616",
   "metadata": {},
   "outputs": [
    {
     "name": "stdout",
     "output_type": "stream",
     "text": [
      "p\n",
      "y\n",
      "t\n",
      "h\n",
      "o\n",
      "n\n",
      " \n",
      "p\n",
      "r\n",
      "o\n",
      "g\n",
      "r\n",
      "a\n",
      "m\n",
      "m\n",
      "\n",
      "\n",
      "s\n",
      "e\n",
      "l\n",
      "f\n",
      " \n",
      "i\n",
      "n\n",
      "t\n",
      "r\n",
      "o\n",
      "d\n",
      "u\n",
      "c\n",
      "t\n",
      "i\n",
      "o\n",
      "n\n",
      "\n",
      "\n",
      "d\n",
      "a\n",
      "t\n",
      "a\n",
      "s\n",
      "c\n",
      "i\n",
      "e\n",
      "n\n",
      "c\n",
      "e\n",
      "\n",
      "\n",
      " \n",
      "p\n",
      "y\n",
      "t\n",
      "h\n",
      "o\n",
      "n\n",
      " \n",
      "w\n",
      "i\n",
      "t\n",
      "h\n",
      " \n",
      "p\n",
      "r\n",
      "o\n",
      "g\n",
      "r\n",
      "a\n",
      "q\n",
      "m\n",
      "m\n",
      "i\n",
      "n\n",
      "g\n",
      " \n",
      "l\n",
      "a\n",
      "n\n",
      "g\n",
      "u\n",
      "a\n",
      "g\n",
      "e\n"
     ]
    }
   ],
   "source": [
    "file = open(\"modified.txt\", \"r\")\n",
    "\n",
    "for line in file:\n",
    "    for character in line:\n",
    "        print(character)"
   ]
  },
  {
   "cell_type": "code",
   "execution_count": null,
   "id": "e579c975",
   "metadata": {},
   "outputs": [],
   "source": []
  },
  {
   "cell_type": "code",
   "execution_count": 25,
   "id": "b95b7975",
   "metadata": {},
   "outputs": [
    {
     "name": "stdout",
     "output_type": "stream",
     "text": [
      "0\n"
     ]
    }
   ],
   "source": [
    "f = open(\"modified.txt\",\"r\")\n",
    "data = file.read()\n",
    "occurance = data.count(\"datascince\")\n",
    "print(occurance)"
   ]
  },
  {
   "cell_type": "markdown",
   "id": "33543d44",
   "metadata": {},
   "source": [
    "read lines from a text file ,reversed and save ina a new file"
   ]
  },
  {
   "cell_type": "code",
   "execution_count": 4,
   "id": "df486c56",
   "metadata": {},
   "outputs": [],
   "source": [
    "f = open(\"modified.txt\",\"rb\")\n",
    "s = f.read()\n",
    "f.close()\n",
    "\n",
    "f = open(\"newtext.txt\",\"wb\")\n",
    "f.write(s[::-1])\n",
    "f.close()"
   ]
  }
 ],
 "metadata": {
  "kernelspec": {
   "display_name": "Python 3 (ipykernel)",
   "language": "python",
   "name": "python3"
  },
  "language_info": {
   "codemirror_mode": {
    "name": "ipython",
    "version": 3
   },
   "file_extension": ".py",
   "mimetype": "text/x-python",
   "name": "python",
   "nbconvert_exporter": "python",
   "pygments_lexer": "ipython3",
   "version": "3.9.6"
  }
 },
 "nbformat": 4,
 "nbformat_minor": 5
}
